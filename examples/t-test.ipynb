{
 "cells": [
  {
   "cell_type": "code",
   "execution_count": 6,
   "metadata": {},
   "outputs": [],
   "source": [
    "import pandas as pd\n",
    "import numpy as np\n",
    "from scipy import stats\n"
   ]
  },
  {
   "cell_type": "code",
   "execution_count": 4,
   "metadata": {},
   "outputs": [
    {
     "data": {
      "text/plain": [
       "Index(['HI', 'SK', 'KUR', 'DSK', 'DKUR', 'Surface'], dtype='object')"
      ]
     },
     "execution_count": 4,
     "metadata": {},
     "output_type": "execute_result"
    }
   ],
   "source": [
    "df = pd.read_csv('../data/data_all_surfaces.csv')\n",
    "df.columns"
   ]
  },
  {
   "cell_type": "code",
   "execution_count": 19,
   "metadata": {},
   "outputs": [],
   "source": [
    "def perform_welch_ttest(df, group1_name, group2_name, metrics=['HI', 'SK', 'KUR', 'DSK', 'DKUR']):\n",
    "    \"\"\"\n",
    "    Perform Welch's t-test between two groups for multiple metrics.\n",
    "    \n",
    "    Parameters:\n",
    "    df: DataFrame containing our data\n",
    "    group1_name: Name of first group in Surface column\n",
    "    group2_name: Name of second group in Surface column\n",
    "    metrics: List of metrics to compare\n",
    "    \n",
    "    Returns:\n",
    "    Dictionary of results with significance symbols\n",
    "    \"\"\"\n",
    "    results = {}\n",
    "    \n",
    "    for metric in metrics:\n",
    "        group1 = df[df['Surface'] == group1_name][metric]\n",
    "        group2 = df[df['Surface'] == group2_name][metric]\n",
    "        \n",
    "        if len(group1) > 0 and len(group2) > 0:\n",
    "            t_stat, p_val = stats.ttest_ind(group1, group2, equal_var=False)\n",
    "            \n",
    "            # Convert p-value to significance symbol\n",
    "            if p_val < 0.01:\n",
    "                results[metric] = \"**\"\n",
    "            elif p_val < 0.05:\n",
    "                results[metric] = \"*\"\n",
    "            else:\n",
    "                results[metric] = \"ns\"\n",
    "        else:\n",
    "            results[metric] = \"NA\"\n",
    "    \n",
    "    return results\n",
    "\n",
    "def create_comparison_table(df):\n",
    "    \"\"\"\n",
    "    Create a table of Welch's t-test results for all required comparisons.\n",
    "    \"\"\"\n",
    "    # Define the comparisons using your actual group names\n",
    "    comparisons = [\n",
    "        ('Earth (hyper arid)', 'Earth (humid)', \"Hyper-arid Earth – Humid Earth\"),\n",
    "        ('Mars', 'Earth (humid)', \"All Mars – Humid Earth\"),\n",
    "        ('Mars', 'Earth (hyper arid)', \"All Mars – Hyper-arid Earth\"),\n",
    "        ('Mars', 'Fractal Surface', \"All Mars – Fractal\"),\n",
    "        ('Moon', 'Fractal Surface', \"Moon – Fractal\"),\n",
    "        ('Moon', 'Earth (hyper arid)', \"Moon – Hyper-arid Earth\"),\n",
    "        ('Mars', 'Moon', \"All Mars – Moon\"),\n",
    "        ('Earth_glaciated', 'Moon', \"Earth Glaciated – Moon\"),\n",
    "        ('Earth_non_glaciated', 'Moon', \"Earth Nonglaciated – Moon\"),\n",
    "        ('Mars_high_crater', 'Moon', \"High crater↑(B) – Moon\"),\n",
    "        ('Mars_low_vn', 'Moon', \"Low VN↓(C) – Moon\"),\n",
    "        ('Mars_low_crater', 'Moon', \"Low crater↓(A) – Moon\"),\n",
    "        ('Mars_low_crater', 'Mars_high_crater', \"Low crater↓(A) –High crater↑(B)\"),\n",
    "        ('Mars_high_vn', 'Mars_low_vn', \"High VN↑(D) – Low VN↓(C)\"),\n",
    "        ('Mars_high_vn', 'Moon', \"High VN↑(D) – Moon\"),\n",
    "        ('model_fluvial', 'Moon', \"Model fluvial – Moon\")\n",
    "    ]\n",
    "    \n",
    "    # Create results table\n",
    "    results = []\n",
    "    for group1, group2, description in comparisons:\n",
    "        row = perform_welch_ttest(df, group1, group2)\n",
    "        row['Row'] = len(results) + 1  # Add row number\n",
    "        row['Comparing Groups'] = description\n",
    "        results.append(row)\n",
    "    \n",
    "    # Convert to DataFrame and format\n",
    "    results_df = pd.DataFrame(results)\n",
    "    \n",
    "    # Reorder columns to put Row first\n",
    "    column_order = ['Row', 'Comparing Groups', 'HI', 'SK', 'KUR', 'DSK', 'DKUR']\n",
    "    results_df = results_df[column_order]\n",
    "    \n",
    "    return results_df\n"
   ]
  },
  {
   "cell_type": "code",
   "execution_count": 20,
   "metadata": {},
   "outputs": [
    {
     "name": "stdout",
     "output_type": "stream",
     "text": [
      " Row                Comparing Groups HI SK KUR DSK DKUR\n",
      "   1  Hyper-arid Earth – Humid Earth ** **  **  **   **\n",
      "   2          All Mars – Humid Earth ** **  **  **   **\n",
      "   3     All Mars – Hyper-arid Earth ** **  **  **   **\n",
      "   4              All Mars – Fractal ** **  **  **   **\n",
      "   5                  Moon – Fractal ** **  **  **   **\n",
      "   6         Moon – Hyper-arid Earth ** **  **  **   **\n",
      "   7                 All Mars – Moon ns  *   *  ns   **\n",
      "   8          Earth Glaciated – Moon  * ns  ns   *    *\n",
      "   9       Earth Nonglaciated – Moon ns **   *  ns   ns\n",
      "  10          High crater↑(B) – Moon ns ns  ns  ns   ns\n",
      "  11               Low VN↓(C) – Moon ns ns  ns  ns   ns\n",
      "  12           Low crater↓(A) – Moon ** **  **  **   ns\n",
      "  13 Low crater↓(A) –High crater↑(B) ** **  **  **   ns\n",
      "  14        High VN↑(D) – Low VN↓(C)  * ns  ns  ns   ns\n",
      "  15              High VN↑(D) – Moon **  *  ns  **   ns\n",
      "  16            Model fluvial – Moon ** **  ns  ns   **\n"
     ]
    }
   ],
   "source": [
    "# recreate Table 2 in the paper\n",
    "results_table = create_comparison_table(df)\n",
    "print(results_table.to_string(index=False))"
   ]
  },
  {
   "cell_type": "code",
   "execution_count": null,
   "metadata": {},
   "outputs": [],
   "source": []
  }
 ],
 "metadata": {
  "kernelspec": {
   "display_name": "vfms",
   "language": "python",
   "name": "python3"
  },
  "language_info": {
   "codemirror_mode": {
    "name": "ipython",
    "version": 3
   },
   "file_extension": ".py",
   "mimetype": "text/x-python",
   "name": "python",
   "nbconvert_exporter": "python",
   "pygments_lexer": "ipython3",
   "version": "3.11.5"
  }
 },
 "nbformat": 4,
 "nbformat_minor": 2
}
